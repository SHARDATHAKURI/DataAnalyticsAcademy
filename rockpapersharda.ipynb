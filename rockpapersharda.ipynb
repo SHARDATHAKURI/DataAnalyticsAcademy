{
  "nbformat": 4,
  "nbformat_minor": 0,
  "metadata": {
    "colab": {
      "name": "rockpapersharda.ipynb",
      "provenance": [],
      "collapsed_sections": [],
      "authorship_tag": "ABX9TyODpG1H6XeIP6RioLgw6mDL",
      "include_colab_link": true
    },
    "kernelspec": {
      "name": "python3",
      "display_name": "Python 3"
    }
  },
  "cells": [
    {
      "cell_type": "markdown",
      "metadata": {
        "id": "view-in-github",
        "colab_type": "text"
      },
      "source": [
        "<a href=\"https://colab.research.google.com/github/SHARDATHAKURI/DataAnalyticsAcademy/blob/master/rockpapersharda.ipynb\" target=\"_parent\"><img src=\"https://colab.research.google.com/assets/colab-badge.svg\" alt=\"Open In Colab\"/></a>"
      ]
    },
    {
      "cell_type": "code",
      "metadata": {
        "id": "JCs6JD2nqROk",
        "colab_type": "code",
        "colab": {
          "base_uri": "https://localhost:8080/",
          "height": 170
        },
        "outputId": "9abe48fc-7b8e-4c31-90a8-c72ffd299445"
      },
      "source": [
        "import random\n",
        "\n",
        "comp_wins = 0\n",
        "player_wins = 0\n",
        "\n",
        "def choose_option ():\n",
        "  user_choice = input (\"Choose Rock, Paper or Scissors:\")\n",
        "  if user_choice in [\"Rock\", 'rock', 'r', 'R']:\n",
        "    user_choice = 'r'\n",
        "  elif user_choice in ['Paper','paper', 'p', 'P']:\n",
        "    user_choice = 'p'\n",
        "  elif user_choice in [\"Scissors\",'scissors', 's', 'S']:\n",
        "    user_choice = 's'\n",
        "  else:\n",
        "    print('try again.')\n",
        "    choose_option()\n",
        "  return user_choice\n",
        "\n",
        "def computer_option():\n",
        "    comp_choice = random.randint (1,3)\n",
        "    if comp_choice == 1:\n",
        "       comp_choice = 'r'\n",
        "    elif comp_choice == 2:\n",
        "       comp_choice ='p'\n",
        "    else:\n",
        "      comp_choice = 's'\n",
        "    return comp_choice\n",
        "\n",
        "while True:\n",
        "  print('')\n",
        "  user_choice = choose_option()\n",
        "  comp_choice = computer_option()     \n",
        "  print('')\n",
        "\n",
        "  if user_choice == 'r':\n",
        "   if comp_choice == 'r':\n",
        "     print ('You chose scissors. The computer chose rock. You lose')\n",
        "   elif comp_choice == 'p':\n",
        "     print ('You chose scissors. The computer chose paper. You win.')\n",
        "     player_wins +=1\n",
        "   elif comp_choice == 's':\n",
        "     print('You chose scissors. The computer chose scissors. You tied.') \n",
        "\n",
        "   print('')\n",
        "   print('Player wins:' + str(player_wins)) \n",
        "   print ('computer wins:' + str(comp_wins))\n",
        "   print('')\n",
        "\n",
        "   user_choice = input('Do you want to play again? (Y/N)')\n",
        "   if user_choice in ['Y','y', 'yes', 'Yes']:\n",
        "     pass\n",
        "   elif user_choice in ['N','n','no','No']:\n",
        "     break\n",
        "   else:\n",
        "     break       \n",
        "              "
      ],
      "execution_count": null,
      "outputs": [
        {
          "output_type": "stream",
          "text": [
            "\n",
            "Choose Rock, Paper or Scissors:r\n",
            "\n",
            "You chose scissors. The computer chose paper. You win.\n",
            "\n",
            "Player wins:1\n",
            "computer wins:0\n",
            "\n",
            "Do you want to play again? (Y/N)n\n"
          ],
          "name": "stdout"
        }
      ]
    },
    {
      "cell_type": "code",
      "metadata": {
        "id": "JEzC8nJar4p6",
        "colab_type": "code",
        "colab": {}
      },
      "source": [
        ""
      ],
      "execution_count": null,
      "outputs": []
    }
  ]
}