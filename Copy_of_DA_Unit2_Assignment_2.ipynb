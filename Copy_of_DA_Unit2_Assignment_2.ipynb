{
  "nbformat": 4,
  "nbformat_minor": 0,
  "metadata": {
    "colab": {
      "name": "Copy of DA_Unit2_Assignment_2.ipynb",
      "provenance": [],
      "collapsed_sections": [],
      "include_colab_link": true
    },
    "kernelspec": {
      "name": "python3",
      "display_name": "Python 3"
    }
  },
  "cells": [
    {
      "cell_type": "markdown",
      "metadata": {
        "id": "view-in-github",
        "colab_type": "text"
      },
      "source": [
        "<a href=\"https://colab.research.google.com/github/SHARDATHAKURI/DataAnalyticsAcademy/blob/master/Copy_of_DA_Unit2_Assignment_2.ipynb\" target=\"_parent\"><img src=\"https://colab.research.google.com/assets/colab-badge.svg\" alt=\"Open In Colab\"/></a>"
      ]
    },
    {
      "cell_type": "markdown",
      "metadata": {
        "id": "EX-5qCzUzStx",
        "colab_type": "text"
      },
      "source": [
        "# 1. Create a list of 5 of your favorite tv shows.  "
      ]
    },
    {
      "cell_type": "code",
      "metadata": {
        "id": "XjZfVeJIzMHx",
        "colab_type": "code",
        "colab": {}
      },
      "source": [
        "tv_shows = ('american idol', 'the office', 'friends', 'saturday night', 'lost')"
      ],
      "execution_count": null,
      "outputs": []
    },
    {
      "cell_type": "code",
      "metadata": {
        "id": "MsdiEBplzOlP",
        "colab_type": "code",
        "colab": {
          "base_uri": "https://localhost:8080/",
          "height": 34
        },
        "outputId": "83db7286-135e-4700-dbe2-d633b6c8f348"
      },
      "source": [
        "print (tv_shows)"
      ],
      "execution_count": null,
      "outputs": [
        {
          "output_type": "stream",
          "text": [
            "('american idol', 'the office', 'friends', 'saturday night', 'lost')\n"
          ],
          "name": "stdout"
        }
      ]
    },
    {
      "cell_type": "markdown",
      "metadata": {
        "id": "9rCzjtAdzWin",
        "colab_type": "text"
      },
      "source": [
        "# 2. Print the list in its original order"
      ]
    },
    {
      "cell_type": "code",
      "metadata": {
        "id": "74gHFkxUzbbh",
        "colab_type": "code",
        "colab": {
          "base_uri": "https://localhost:8080/",
          "height": 119
        },
        "outputId": "245594ae-56e0-4d3b-9d08-75284f7cfd33"
      },
      "source": [
        "print('origingal list of the shows are as follows:')\n",
        "tv_shows = ('american idol', 'the office', 'friends', 'saturday night', 'lost')\n",
        "for tv_show in tv_shows : print (tv_show)\n",
        "for index, tv_shows in enumerate(tv_shows):place = str (index)\n"
      ],
      "execution_count": null,
      "outputs": [
        {
          "output_type": "stream",
          "text": [
            "origingal list of the shows are as follows:\n",
            "american idol\n",
            "the office\n",
            "friends\n",
            "saturday night\n",
            "lost\n"
          ],
          "name": "stdout"
        }
      ]
    },
    {
      "cell_type": "markdown",
      "metadata": {
        "id": "x2OaYEIxzaa2",
        "colab_type": "text"
      },
      "source": [
        "# 3.\tUse the sorted() function to print the list in alphabetical order.  How is sorted() different from sort()?"
      ]
    },
    {
      "cell_type": "code",
      "metadata": {
        "id": "XX8aasMjzi17",
        "colab_type": "code",
        "colab": {
          "base_uri": "https://localhost:8080/",
          "height": 68
        },
        "outputId": "d1317eb3-ca1d-4488-9869-578b95860131"
      },
      "source": [
        "print(tv_shows)\n",
        "print(sorted(tv_shows))\n",
        "print (tv_shows)"
      ],
      "execution_count": null,
      "outputs": [
        {
          "output_type": "stream",
          "text": [
            "('american idol', 'the office', 'friends', 'saturday night', 'lost')\n",
            "['american idol', 'friends', 'lost', 'saturday night', 'the office']\n",
            "('american idol', 'the office', 'friends', 'saturday night', 'lost')\n"
          ],
          "name": "stdout"
        }
      ]
    },
    {
      "cell_type": "markdown",
      "metadata": {
        "id": "2IhhYxfbKLyb",
        "colab_type": "text"
      },
      "source": [
        "When we do not want the list to get permanently sorted, we can use the sorted () function to temporary sort our list. The sorted()function also accepts the optional reverse=True argument."
      ]
    },
    {
      "cell_type": "markdown",
      "metadata": {
        "id": "494nWJUfzhqp",
        "colab_type": "text"
      },
      "source": [
        "# 4.\tPrint out your original list."
      ]
    },
    {
      "cell_type": "code",
      "metadata": {
        "id": "uIBajjm8znYY",
        "colab_type": "code",
        "colab": {}
      },
      "source": [
        ""
      ],
      "execution_count": null,
      "outputs": []
    },
    {
      "cell_type": "code",
      "metadata": {
        "id": "BT2mLaGSzoNY",
        "colab_type": "code",
        "colab": {}
      },
      "source": [
        ""
      ],
      "execution_count": null,
      "outputs": []
    },
    {
      "cell_type": "markdown",
      "metadata": {
        "id": "C3haxfx-zooV",
        "colab_type": "text"
      },
      "source": [
        "# 5. Used sorted() to print your list in reverse alphabetical order"
      ]
    },
    {
      "cell_type": "code",
      "metadata": {
        "id": "4zJ0g_wPzsnD",
        "colab_type": "code",
        "colab": {
          "base_uri": "https://localhost:8080/",
          "height": 215
        },
        "outputId": "716276dc-f9a8-4fc6-bdfa-0e2d949410dd"
      },
      "source": [
        "print(tv_shows)\n",
        "tv_shows.sort(reverse=true)\n",
        "print (tv_shows)"
      ],
      "execution_count": null,
      "outputs": [
        {
          "output_type": "stream",
          "text": [
            "('american idol', 'the office', 'friends', 'saturday night', 'lost')\n"
          ],
          "name": "stdout"
        },
        {
          "output_type": "error",
          "ename": "AttributeError",
          "evalue": "ignored",
          "traceback": [
            "\u001b[0;31m---------------------------------------------------------------------------\u001b[0m",
            "\u001b[0;31mAttributeError\u001b[0m                            Traceback (most recent call last)",
            "\u001b[0;32m<ipython-input-11-9a2c492a0250>\u001b[0m in \u001b[0;36m<module>\u001b[0;34m()\u001b[0m\n\u001b[1;32m      1\u001b[0m \u001b[0mprint\u001b[0m\u001b[0;34m(\u001b[0m\u001b[0mtv_shows\u001b[0m\u001b[0;34m)\u001b[0m\u001b[0;34m\u001b[0m\u001b[0;34m\u001b[0m\u001b[0m\n\u001b[0;32m----> 2\u001b[0;31m \u001b[0mtv_shows\u001b[0m\u001b[0;34m.\u001b[0m\u001b[0msort\u001b[0m\u001b[0;34m(\u001b[0m\u001b[0mreverse\u001b[0m\u001b[0;34m=\u001b[0m\u001b[0mtrue\u001b[0m\u001b[0;34m)\u001b[0m\u001b[0;34m\u001b[0m\u001b[0;34m\u001b[0m\u001b[0m\n\u001b[0m\u001b[1;32m      3\u001b[0m \u001b[0mprint\u001b[0m \u001b[0;34m(\u001b[0m\u001b[0mtv_shows\u001b[0m\u001b[0;34m)\u001b[0m\u001b[0;34m\u001b[0m\u001b[0;34m\u001b[0m\u001b[0m\n",
            "\u001b[0;31mAttributeError\u001b[0m: 'tuple' object has no attribute 'sort'"
          ]
        }
      ]
    },
    {
      "cell_type": "code",
      "metadata": {
        "id": "1Hrc-SeSztB8",
        "colab_type": "code",
        "colab": {}
      },
      "source": [
        ""
      ],
      "execution_count": null,
      "outputs": []
    },
    {
      "cell_type": "markdown",
      "metadata": {
        "id": "5kqS_EeKztaJ",
        "colab_type": "text"
      },
      "source": [
        "# 6\tCreate a message indicating how many favorite TV shows you have – use the len() function"
      ]
    },
    {
      "cell_type": "code",
      "metadata": {
        "id": "yIwdt6lj29Zm",
        "colab_type": "code",
        "colab": {
          "base_uri": "https://localhost:8080/",
          "height": 51
        },
        "outputId": "a5b76d2c-60d6-4b55-ece5-aaff185be230"
      },
      "source": [
        "print(tv_shows)\n",
        "len(tv_shows)"
      ],
      "execution_count": null,
      "outputs": [
        {
          "output_type": "stream",
          "text": [
            "('american idol', 'the office', 'friends', 'saturday night', 'lost')\n"
          ],
          "name": "stdout"
        },
        {
          "output_type": "execute_result",
          "data": {
            "text/plain": [
              "5"
            ]
          },
          "metadata": {
            "tags": []
          },
          "execution_count": 12
        }
      ]
    },
    {
      "cell_type": "code",
      "metadata": {
        "id": "pm6NFrlH29pO",
        "colab_type": "code",
        "colab": {}
      },
      "source": [
        ""
      ],
      "execution_count": null,
      "outputs": []
    }
  ]
}