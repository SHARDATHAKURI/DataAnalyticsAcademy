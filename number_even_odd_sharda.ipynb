{
  "nbformat": 4,
  "nbformat_minor": 0,
  "metadata": {
    "colab": {
      "name": "number even/odd sharda.ipynb",
      "provenance": [],
      "collapsed_sections": [],
      "authorship_tag": "ABX9TyPh0B1Za0b68Nm+EnK0UDjN",
      "include_colab_link": true
    },
    "kernelspec": {
      "name": "python3",
      "display_name": "Python 3"
    }
  },
  "cells": [
    {
      "cell_type": "markdown",
      "metadata": {
        "id": "view-in-github",
        "colab_type": "text"
      },
      "source": [
        "<a href=\"https://colab.research.google.com/github/SHARDATHAKURI/DataAnalyticsAcademy/blob/master/number_even_odd_sharda.ipynb\" target=\"_parent\"><img src=\"https://colab.research.google.com/assets/colab-badge.svg\" alt=\"Open In Colab\"/></a>"
      ]
    },
    {
      "cell_type": "code",
      "metadata": {
        "id": "_uhD8MsJ7MyG",
        "colab_type": "code",
        "colab": {
          "base_uri": "https://localhost:8080/",
          "height": 68
        },
        "outputId": "43c80a81-e081-4ecd-d3ad-ee24cf468f95"
      },
      "source": [
        "i=0\n",
        "number = int(input('enter a new number:'))\n",
        "answer = number %2\n",
        "print(answer)\n",
        "\n",
        "if answer ==0:\n",
        "  print(number,'is an even number')\n",
        "else:\n",
        "  print(number,'is an odd number')\n",
        "  \n",
        "while i *4:\n",
        "  if answer ==0:\n",
        "   print(number,'is an even number')\n",
        "  else:\n",
        "    print(number,'is an odd number')\n",
        "i +=1\n",
        "\n"
      ],
      "execution_count": null,
      "outputs": [
        {
          "output_type": "stream",
          "text": [
            "enter a new number:67\n",
            "1\n",
            "67 is an odd number\n"
          ],
          "name": "stdout"
        }
      ]
    }
  ]
}